{
  "nbformat": 4,
  "nbformat_minor": 0,
  "metadata": {
    "colab": {
      "name": "3 - NLP Sentiment Text Analysis - Transfer Learning v2.ipynb",
      "provenance": [],
      "collapsed_sections": [],
      "toc_visible": true,
      "include_colab_link": true
    },
    "kernelspec": {
      "display_name": "Python 3",
      "name": "python3"
    },
    "accelerator": "GPU"
  },
  "cells": [
    {
      "cell_type": "markdown",
      "metadata": {
        "id": "view-in-github",
        "colab_type": "text"
      },
      "source": [
        "<a href=\"https://colab.research.google.com/github/dkim319/Twitter_Sentiment_Analysis/blob/master/3_NLP_Sentiment_Text_Analysis_Transfer_Learning_v2.ipynb\" target=\"_parent\"><img src=\"https://colab.research.google.com/assets/colab-badge.svg\" alt=\"Open In Colab\"/></a>"
      ]
    },
    {
      "cell_type": "markdown",
      "metadata": {
        "id": "O_qjTnmm7xnm",
        "colab_type": "text"
      },
      "source": [
        "# Sentiment Analysis - Transfer Learning\n",
        "\n",
        "## Introduction\n",
        "\n",
        "This notebook covers the building of a transfer learning model for Twitter sentiment analysis of the NLTK Twitter samples as a dataset.\n",
        "\n"
      ]
    },
    {
      "cell_type": "markdown",
      "metadata": {
        "id": "jh_eWQCwPsJC",
        "colab_type": "text"
      },
      "source": [
        "## 1. Setup\n",
        "\n",
        "All required libraries are loaded and the Tensorflow version is checked."
      ]
    },
    {
      "cell_type": "code",
      "metadata": {
        "id": "KVf-McFKwWF0",
        "colab_type": "code",
        "colab": {
          "base_uri": "https://localhost:8080/",
          "height": 34
        },
        "outputId": "1a12d2ea-2b57-49ff-d3e5-1d3b3762a8f7"
      },
      "source": [
        "import tensorflow as tf\n",
        "import tensorflow_hub as hub\n",
        "# !pip install -q tensorflow-datasets\n",
        "import pdb\n",
        "from nltk.corpus import stopwords, twitter_samples\n",
        "import numpy as np\n",
        "import pandas as pd\n",
        "import nltk\n",
        "import string\n",
        "from nltk.tokenize import TweetTokenizer\n",
        "import os\n",
        "from os import getcwd\n",
        "import matplotlib.pyplot as plt\n",
        "\n",
        "import re\n",
        "import string\n",
        "\n",
        "from nltk.corpus import stopwords\n",
        "from nltk.stem import PorterStemmer\n",
        "from nltk.tokenize import TweetTokenizer\n",
        "\n",
        "print(tf.__version__)"
      ],
      "execution_count": null,
      "outputs": [
        {
          "output_type": "stream",
          "text": [
            "2.3.0\n"
          ],
          "name": "stdout"
        }
      ]
    },
    {
      "cell_type": "markdown",
      "metadata": {
        "id": "DvL6hb9URzeS",
        "colab_type": "text"
      },
      "source": [
        "The NLTK Twitter dataset is loaded."
      ]
    },
    {
      "cell_type": "code",
      "metadata": {
        "id": "B69vZllQxkbZ",
        "colab_type": "code",
        "colab": {
          "base_uri": "https://localhost:8080/",
          "height": 102
        },
        "outputId": "e5c84759-789b-4063-ff54-1fdaed2e5754"
      },
      "source": [
        "# add folder, tmp2, from our local workspace containing pre-downloaded corpora files to nltk's data path\n",
        "filePath = f\"{getcwd()}/../tmp2/\"\n",
        "nltk.data.path.append(filePath)\n",
        "\n",
        "nltk.download('stopwords')\n",
        "nltk.download('twitter_samples')"
      ],
      "execution_count": null,
      "outputs": [
        {
          "output_type": "stream",
          "text": [
            "[nltk_data] Downloading package stopwords to /root/nltk_data...\n",
            "[nltk_data]   Package stopwords is already up-to-date!\n",
            "[nltk_data] Downloading package twitter_samples to /root/nltk_data...\n",
            "[nltk_data]   Package twitter_samples is already up-to-date!\n"
          ],
          "name": "stdout"
        },
        {
          "output_type": "execute_result",
          "data": {
            "text/plain": [
              "True"
            ]
          },
          "metadata": {
            "tags": []
          },
          "execution_count": 11
        }
      ]
    },
    {
      "cell_type": "markdown",
      "metadata": {
        "id": "WdQKCbtZQE05",
        "colab_type": "text"
      },
      "source": [
        "## 2. Prep Data for Deep Learning\n",
        "\n",
        "The data is split into the training and test datasets (features and labels) and tweets are cleaned up."
      ]
    },
    {
      "cell_type": "code",
      "metadata": {
        "id": "Ffd-kYTDj3wA",
        "colab_type": "code",
        "colab": {}
      },
      "source": [
        "def process_tweet(tweet):\n",
        "    '''\n",
        "    Input:\n",
        "        tweet: a string containing a tweet\n",
        "    Output:\n",
        "        tweets_clean: a list of words containing the processed tweet\n",
        "\n",
        "    '''\n",
        "    #stemmer = PorterStemmer()\n",
        "    # remove stock market tickers like $GE\n",
        "    tweet = re.sub(r'\\$\\w*', '', tweet)\n",
        "    # remove old style retweet text \"RT\"\n",
        "    tweet = re.sub(r'^RT[\\s]+', '', tweet)\n",
        "    # remove hyperlinks\n",
        "    tweet = re.sub(r'https?:\\/\\/.*[\\r\\n]*', '', tweet)\n",
        "    tweet = re.sub('@[^\\s]+','',tweet)\n",
        "    # remove hashtags\n",
        "    # only removing the hash # sign from the word\n",
        "    tweet = re.sub(r'#', '', tweet)\n",
        "    tweet = tweet.lower()\n",
        "    # tokenize tweets\n",
        "\n",
        "    return tweet"
      ],
      "execution_count": null,
      "outputs": []
    },
    {
      "cell_type": "code",
      "metadata": {
        "id": "9KYwHhekhgqf",
        "colab_type": "code",
        "colab": {}
      },
      "source": [
        "# get the sets of positive and negative tweets\n",
        "all_positive_tweets = twitter_samples.strings('positive_tweets.json')\n",
        "all_negative_tweets = twitter_samples.strings('negative_tweets.json')\n",
        "\n",
        "# split the data into two pieces, one for training and one for testing (validation set)\n",
        "test_pos = all_positive_tweets[4000:]\n",
        "train_pos = all_positive_tweets[:4000]\n",
        "test_neg = all_negative_tweets[4000:]\n",
        "train_neg = all_negative_tweets[:4000]\n",
        "\n",
        "train_x = train_pos + train_neg\n",
        "test_x = test_pos + test_neg\n",
        "\n",
        "train_x_cleaned = []\n",
        "test_x_cleaned = []\n",
        "\n",
        "for i, val in enumerate(train_x): \n",
        "   train_x_cleaned.append(process_tweet(train_x[i]))\n",
        "  \n",
        "for i, val in enumerate(test_x): \n",
        "   test_x_cleaned.append(process_tweet(test_x[i]))  \n",
        "\n",
        "train_x_np = np.array(train_x_cleaned)\n",
        "test_x_np = np.array(test_x_cleaned)\n",
        "\n",
        "# avoid assumptions about the length of all_positive_tweets\n",
        "train_y = np.append(np.ones(len(train_pos)), np.zeros(len(train_neg)))\n",
        "test_y = np.append(np.ones(len(test_pos)), np.zeros(len(test_neg)))"
      ],
      "execution_count": null,
      "outputs": []
    },
    {
      "cell_type": "markdown",
      "metadata": {
        "id": "lLFwnQzFSDDy",
        "colab_type": "text"
      },
      "source": [
        "The original and cleaned tweets are reviewed."
      ]
    },
    {
      "cell_type": "code",
      "metadata": {
        "id": "xdJU5QqJno7g",
        "colab_type": "code",
        "colab": {
          "base_uri": "https://localhost:8080/",
          "height": 35
        },
        "outputId": "cd39fd39-5f19-40f7-f4d5-2bf2aebc3eb6"
      },
      "source": [
        "train_x[2]"
      ],
      "execution_count": null,
      "outputs": [
        {
          "output_type": "execute_result",
          "data": {
            "application/vnd.google.colaboratory.intrinsic+json": {
              "type": "string"
            },
            "text/plain": [
              "'@DespiteOfficial we had a listen last night :) As You Bleed is an amazing track. When are you in Scotland?!'"
            ]
          },
          "metadata": {
            "tags": []
          },
          "execution_count": 14
        }
      ]
    },
    {
      "cell_type": "code",
      "metadata": {
        "id": "nHPamIq1noVq",
        "colab_type": "code",
        "colab": {
          "base_uri": "https://localhost:8080/",
          "height": 35
        },
        "outputId": "419b2ad4-1ff0-4625-bdcc-d6a4264b54dc"
      },
      "source": [
        "train_x_np[2]"
      ],
      "execution_count": null,
      "outputs": [
        {
          "output_type": "execute_result",
          "data": {
            "application/vnd.google.colaboratory.intrinsic+json": {
              "type": "string"
            },
            "text/plain": [
              "' we had a listen last night :) as you bleed is an amazing track. when are you in scotland?!'"
            ]
          },
          "metadata": {
            "tags": []
          },
          "execution_count": 15
        }
      ]
    },
    {
      "cell_type": "markdown",
      "metadata": {
        "id": "Bi8pJyjyQABs",
        "colab_type": "text"
      },
      "source": [
        "## 3. Build the Model\n",
        "\n",
        "The transfer learning model leverages Google's pre-trained text embedding model based on Google New 7B corpus.  This is the link to embedding: https://tfhub.dev/google/tf2-preview/nnlm-en-dim50/1\n",
        "\n",
        "The first step is to configure the KerasLayer to load in this pre-train text embedding."
      ]
    },
    {
      "cell_type": "code",
      "metadata": {
        "id": "0TPoXqipHiQH",
        "colab_type": "code",
        "colab": {
          "base_uri": "https://localhost:8080/",
          "height": 391
        },
        "outputId": "4fae5af7-569e-4097-ba44-242cdfa89a04"
      },
      "source": [
        "\"\"\"\n",
        "embedding = \"https://tfhub.dev/google/tf2-preview/gnews-swivel-20dim/1\"\n",
        "hub_layer = hub.KerasLayer(embedding, output_shape=[20], input_shape=[], \n",
        "                           dtype=tf.string, trainable=True)\n",
        "\n",
        "embedding = \"https://tfhub.dev/google/tf2-preview/gnews-swivel-20dim-with-oov/1\"\n",
        "hub_layer = hub.KerasLayer(embedding, output_shape=[20], input_shape=[], \n",
        "                           dtype=tf.string, trainable=True)\n",
        "\"\"\"\n",
        "\n",
        "embedding = \"https://tfhub.dev/google/tf2-preview/nnlm-en-dim50/1\"\n",
        "hub_layer = hub.KerasLayer(embedding, output_shape=[50], input_shape=[], \n",
        "                           dtype=tf.string, trainable=True)\n",
        "\n",
        "hub_layer(train_x_np[:2])"
      ],
      "execution_count": null,
      "outputs": [
        {
          "output_type": "execute_result",
          "data": {
            "text/plain": [
              "<tf.Tensor: shape=(2, 50), dtype=float32, numpy=\n",
              "array([[ 0.18177961,  0.30905282, -0.0955687 , -0.02481533,  0.07251601,\n",
              "         0.09626536,  0.06276587, -0.02867672,  0.03171784, -0.06458392,\n",
              "         0.12174236,  0.07538073,  0.1094935 , -0.10432209,  0.2389291 ,\n",
              "        -0.01256077, -0.15951258, -0.03723193,  0.0015762 , -0.10129286,\n",
              "        -0.10726307,  0.03916125,  0.16474564, -0.07280651, -0.02297282,\n",
              "         0.16508304, -0.50607455,  0.12797995,  0.11485224,  0.02898668,\n",
              "        -0.00376796, -0.03540844,  0.00164975, -0.08325573, -0.20080048,\n",
              "        -0.03544626,  0.19501816,  0.11686108,  0.02408622,  0.0222721 ,\n",
              "         0.28063452,  0.15775855, -0.14600493,  0.17744695,  0.04100045,\n",
              "        -0.19509828,  0.0950956 , -0.2723935 ,  0.14293464,  0.11286461],\n",
              "       [ 0.1751235 ,  0.0196493 , -0.31946498,  0.2754337 ,  0.05172827,\n",
              "         0.09370855,  0.12976623, -0.1156506 , -0.30690724,  0.23473029,\n",
              "        -0.10742051,  0.19808711,  0.16013856,  0.17970525, -0.09471116,\n",
              "         0.1901817 , -0.00615488,  0.14532742,  0.19149198, -0.12730901,\n",
              "         0.06606309,  0.07155086,  0.07203054,  0.00593008,  0.14127813,\n",
              "         0.17025234, -0.41597137, -0.07900883,  0.00445011, -0.01897227,\n",
              "         0.16834185,  0.09840082,  0.33775094, -0.23037246, -0.48908883,\n",
              "         0.0022995 ,  0.08073475, -0.02367687,  0.12777619,  0.05696369,\n",
              "         0.29528296,  0.03473393,  0.12866159, -0.20593888,  0.10354699,\n",
              "         0.3241971 , -0.33740208, -0.34096605,  0.08551934,  0.3130336 ]],\n",
              "      dtype=float32)>"
            ]
          },
          "metadata": {
            "tags": []
          },
          "execution_count": 16
        }
      ]
    },
    {
      "cell_type": "markdown",
      "metadata": {
        "id": "Xw1kNQlRSqN0",
        "colab_type": "text"
      },
      "source": [
        "The next step is to configure a DNN model that takes in the pre-trained embedding and two more layers to ensure that the model produces the expected output."
      ]
    },
    {
      "cell_type": "code",
      "metadata": {
        "id": "VcZSdAdBJPSG",
        "colab_type": "code",
        "colab": {
          "base_uri": "https://localhost:8080/",
          "height": 255
        },
        "outputId": "e74d7497-807f-414a-f68f-fa0b065cb066"
      },
      "source": [
        "# set the seed and clear session to ensure consistent results and avoid past models impacting the current model\n",
        "tf.keras.backend.clear_session()\n",
        "tf.random.set_seed(319)\n",
        "np.random.seed(319)\n",
        "\n",
        "model = tf.keras.Sequential()\n",
        "model.add(hub_layer)\n",
        "model.add(tf.keras.layers.Dense(16, activation='relu'))\n",
        "model.add(tf.keras.layers.Dense(1))\n",
        "\n",
        "model.summary()"
      ],
      "execution_count": null,
      "outputs": [
        {
          "output_type": "stream",
          "text": [
            "Model: \"sequential\"\n",
            "_________________________________________________________________\n",
            "Layer (type)                 Output Shape              Param #   \n",
            "=================================================================\n",
            "keras_layer (KerasLayer)     (None, 50)                48190600  \n",
            "_________________________________________________________________\n",
            "dense (Dense)                (None, 16)                816       \n",
            "_________________________________________________________________\n",
            "dense_1 (Dense)              (None, 1)                 17        \n",
            "=================================================================\n",
            "Total params: 48,191,433\n",
            "Trainable params: 48,191,433\n",
            "Non-trainable params: 0\n",
            "_________________________________________________________________\n"
          ],
          "name": "stdout"
        }
      ]
    },
    {
      "cell_type": "markdown",
      "metadata": {
        "id": "5kg9Jv9ze_aQ",
        "colab_type": "text"
      },
      "source": [
        "The model is compiled."
      ]
    },
    {
      "cell_type": "code",
      "metadata": {
        "id": "jpyV1JDPJRQN",
        "colab_type": "code",
        "colab": {}
      },
      "source": [
        "model.compile(optimizer='adam',\n",
        "              loss=tf.keras.losses.BinaryCrossentropy(from_logits=True),\n",
        "              metrics=['accuracy'])"
      ],
      "execution_count": null,
      "outputs": []
    },
    {
      "cell_type": "markdown",
      "metadata": {
        "id": "WhR60PW4S8Ul",
        "colab_type": "text"
      },
      "source": [
        "The model produced a training accuracy of 97.1% after only 10 epochs.  This is the best performing model out of the three attempted.  \n",
        "\n"
      ]
    },
    {
      "cell_type": "code",
      "metadata": {
        "id": "RcRqCTMNJUPh",
        "colab_type": "code",
        "colab": {
          "base_uri": "https://localhost:8080/",
          "height": 697
        },
        "outputId": "b1c395ed-fb19-49c0-932d-68dec5018d2c"
      },
      "source": [
        "history = model.fit(train_x_np,\n",
        "                    train_y,\n",
        "                    epochs=20,\n",
        "                    #batch_size=512,\n",
        "                    validation_data=(test_x_np,test_y),\n",
        "                    verbose=1)"
      ],
      "execution_count": null,
      "outputs": [
        {
          "output_type": "stream",
          "text": [
            "Epoch 1/20\n",
            "250/250 [==============================] - 4s 15ms/step - loss: 0.0010 - accuracy: 0.9995 - val_loss: 0.1088 - val_accuracy: 0.9710\n",
            "Epoch 2/20\n",
            "250/250 [==============================] - 4s 15ms/step - loss: 9.5840e-04 - accuracy: 0.9998 - val_loss: 0.1096 - val_accuracy: 0.9680\n",
            "Epoch 3/20\n",
            "250/250 [==============================] - 4s 15ms/step - loss: 9.8402e-04 - accuracy: 0.9996 - val_loss: 0.1124 - val_accuracy: 0.9675\n",
            "Epoch 4/20\n",
            "250/250 [==============================] - 4s 15ms/step - loss: 0.0011 - accuracy: 0.9995 - val_loss: 0.1134 - val_accuracy: 0.9680\n",
            "Epoch 5/20\n",
            "250/250 [==============================] - 4s 15ms/step - loss: 0.0010 - accuracy: 0.9996 - val_loss: 0.1120 - val_accuracy: 0.9690\n",
            "Epoch 6/20\n",
            "250/250 [==============================] - 4s 15ms/step - loss: 9.4586e-04 - accuracy: 0.9996 - val_loss: 0.1144 - val_accuracy: 0.9690\n",
            "Epoch 7/20\n",
            "250/250 [==============================] - 4s 15ms/step - loss: 9.9729e-04 - accuracy: 0.9996 - val_loss: 0.1167 - val_accuracy: 0.9695\n",
            "Epoch 8/20\n",
            "250/250 [==============================] - 4s 15ms/step - loss: 8.8817e-04 - accuracy: 0.9998 - val_loss: 0.1206 - val_accuracy: 0.9680\n",
            "Epoch 9/20\n",
            "250/250 [==============================] - 4s 15ms/step - loss: 0.0011 - accuracy: 0.9995 - val_loss: 0.1177 - val_accuracy: 0.9695\n",
            "Epoch 10/20\n",
            "250/250 [==============================] - 4s 15ms/step - loss: 9.2268e-04 - accuracy: 0.9998 - val_loss: 0.1216 - val_accuracy: 0.9695\n",
            "Epoch 11/20\n",
            "250/250 [==============================] - 4s 15ms/step - loss: 9.3654e-04 - accuracy: 0.9996 - val_loss: 0.1230 - val_accuracy: 0.9685\n",
            "Epoch 12/20\n",
            "250/250 [==============================] - 4s 15ms/step - loss: 9.7552e-04 - accuracy: 0.9996 - val_loss: 0.1258 - val_accuracy: 0.9680\n",
            "Epoch 13/20\n",
            "250/250 [==============================] - 4s 15ms/step - loss: 7.9896e-04 - accuracy: 0.9996 - val_loss: 0.1251 - val_accuracy: 0.9690\n",
            "Epoch 14/20\n",
            "250/250 [==============================] - 4s 15ms/step - loss: 9.6301e-04 - accuracy: 0.9996 - val_loss: 0.1267 - val_accuracy: 0.9700\n",
            "Epoch 15/20\n",
            "250/250 [==============================] - 4s 15ms/step - loss: 9.3833e-04 - accuracy: 0.9996 - val_loss: 0.1272 - val_accuracy: 0.9700\n",
            "Epoch 16/20\n",
            "250/250 [==============================] - 4s 15ms/step - loss: 9.6485e-04 - accuracy: 0.9995 - val_loss: 0.1291 - val_accuracy: 0.9705\n",
            "Epoch 17/20\n",
            "250/250 [==============================] - 4s 15ms/step - loss: 9.6217e-04 - accuracy: 0.9996 - val_loss: 0.1301 - val_accuracy: 0.9700\n",
            "Epoch 18/20\n",
            "250/250 [==============================] - 4s 15ms/step - loss: 9.2905e-04 - accuracy: 0.9996 - val_loss: 0.1325 - val_accuracy: 0.9695\n",
            "Epoch 19/20\n",
            "250/250 [==============================] - 4s 15ms/step - loss: 8.4990e-04 - accuracy: 0.9998 - val_loss: 0.1347 - val_accuracy: 0.9690\n",
            "Epoch 20/20\n",
            "250/250 [==============================] - 4s 15ms/step - loss: 8.7112e-04 - accuracy: 0.9998 - val_loss: 0.1350 - val_accuracy: 0.9710\n"
          ],
          "name": "stdout"
        }
      ]
    },
    {
      "cell_type": "markdown",
      "metadata": {
        "id": "3SdG9qB7SSRW",
        "colab_type": "text"
      },
      "source": [
        "The chart function is created for plotting the accuracy and loss."
      ]
    },
    {
      "cell_type": "code",
      "metadata": {
        "colab_type": "code",
        "id": "jmB0Uxk0ycP6",
        "colab": {}
      },
      "source": [
        "import matplotlib.pyplot as plt\n",
        "\n",
        "\n",
        "def plot_graphs(history, string):\n",
        "  plt.plot(history.history[string])\n",
        "  plt.plot(history.history['val_'+string])\n",
        "  plt.xlabel(\"Epochs\")\n",
        "  plt.ylabel(string)''\n",
        "  plt.legend([string, 'val_'+string])\n",
        "  plt.show()"
      ],
      "execution_count": null,
      "outputs": []
    },
    {
      "cell_type": "markdown",
      "metadata": {
        "id": "GSnkaX1dTqZe",
        "colab_type": "text"
      },
      "source": [
        "The accuracy and loss charts show that even after 1 epoch, the transfer learning model was able to produce a model with great validation accuracy."
      ]
    },
    {
      "cell_type": "code",
      "metadata": {
        "colab_type": "code",
        "id": "VDeqpOCVydtq",
        "colab": {
          "base_uri": "https://localhost:8080/",
          "height": 279
        },
        "outputId": "cbf5dde2-d8ca-4231-8147-9a4bec51f1bd"
      },
      "source": [
        "plot_graphs(history, 'accuracy')"
      ],
      "execution_count": null,
      "outputs": [
        {
          "output_type": "display_data",
          "data": {
            "image/png": "[encoded data removed]",
            "text/plain": [
              "<Figure size 432x288 with 1 Axes>"
            ]
          },
          "metadata": {
            "tags": [],
            "needs_background": "light"
          }
        }
      ]
    },
    {
      "cell_type": "code",
      "metadata": {
        "id": "4cfb_w0Hxzga",
        "colab_type": "code",
        "colab": {
          "base_uri": "https://localhost:8080/",
          "height": 281
        },
        "outputId": "bbaeefc1-bca0-4e8b-bc72-cf76673998c5"
      },
      "source": [
        "plot_graphs(history, 'loss')"
      ],
      "execution_count": null,
      "outputs": [
        {
          "output_type": "display_data",
          "data": {
            "image/png": "[encoded data removed]",
            "text/plain": [
              "<Figure size 432x288 with 1 Axes>"
            ]
          },
          "metadata": {
            "tags": [],
            "needs_background": "light"
          }
        }
      ]
    },
    {
      "cell_type": "markdown",
      "metadata": {
        "id": "7VMAxS2wT1bo",
        "colab_type": "text"
      },
      "source": [
        "## Conclusion\n",
        "\n",
        "The transfer learning model performed the best with a validation accuracy of 97.1% compared to the other two approaches.  The initial training dataset did not have enough data to produced a high performing model.  Tranfer learning was the best solution for these types of situations.   "
      ]
    }
  ]
}