{
  "nbformat": 4,
  "nbformat_minor": 0,
  "metadata": {
    "colab": {
      "name": "1 - NLP Sentiment Text Analysis v2.ipynb",
      "provenance": [],
      "collapsed_sections": [],
      "toc_visible": true,
      "include_colab_link": true
    },
    "kernelspec": {
      "display_name": "Python 3",
      "name": "python3"
    }
  },
  "cells": [
    {
      "cell_type": "markdown",
      "metadata": {
        "id": "view-in-github",
        "colab_type": "text"
      },
      "source": [
        "<a href=\"https://colab.research.google.com/github/dkim319/Twitter_Sentiment_Analysis/blob/master/1_NLP_Sentiment_Text_Analysis_v2.ipynb\" target=\"_parent\"><img src=\"https://colab.research.google.com/assets/colab-badge.svg\" alt=\"Open In Colab\"/></a>"
      ]
    },
    {
      "cell_type": "markdown",
      "metadata": {
        "id": "5H2wGyebN29n",
        "colab_type": "text"
      },
      "source": [
        "# Sentiment Analysis - \n",
        "\n",
        "## Introduction\n",
        "\n",
        "This is a Twitter sentiment analysis project to apply the techniques learning in the Deeplearning.ai Tensorflow Developer specialization.  The secondary purpose is to create a template to be used for future NLP classification projects.\n",
        "\n",
        "This project uses NLTK Twitter samples as a dataset.  There were be three separate notebooks and three separate deep learning models to the same problem.\n",
        "\n",
        "1.  Simple DNN model\n",
        "2.  LTSM\n",
        "3.  Transfer Learning"
      ]
    },
    {
      "cell_type": "markdown",
      "metadata": {
        "id": "O_qjTnmm7xnm",
        "colab_type": "text"
      },
      "source": [
        "## 1. Setup\n",
        "\n",
        "All required libraries are loaded and the Tensorflow version is checked."
      ]
    },
    {
      "cell_type": "code",
      "metadata": {
        "colab_type": "code",
        "id": "P-AhVYeBWgQ3",
        "colab": {
          "base_uri": "https://localhost:8080/",
          "height": 34
        },
        "outputId": "0d27ea90-54c9-4435-fb94-2c0da271ad1a"
      },
      "source": [
        "import tensorflow as tf\n",
        "# !pip install -q tensorflow-datasets\n",
        "import pdb\n",
        "from nltk.corpus import stopwords, twitter_samples\n",
        "import numpy as np\n",
        "import pandas as pd\n",
        "import nltk\n",
        "import string\n",
        "from nltk.tokenize import TweetTokenizer\n",
        "import os\n",
        "from os import getcwd\n",
        "import matplotlib.pyplot as plt\n",
        "\n",
        "import re\n",
        "import string\n",
        "\n",
        "from nltk.corpus import stopwords\n",
        "from nltk.stem import PorterStemmer\n",
        "from nltk.tokenize import TweetTokenizer\n",
        "\n",
        "print(tf.__version__)"
      ],
      "execution_count": null,
      "outputs": [
        {
          "output_type": "stream",
          "text": [
            "2.3.0\n"
          ],
          "name": "stdout"
        }
      ]
    },
    {
      "cell_type": "markdown",
      "metadata": {
        "id": "BThVHlcOV2_w",
        "colab_type": "text"
      },
      "source": [
        "The NLTK Twitter dataset is loaded."
      ]
    },
    {
      "cell_type": "code",
      "metadata": {
        "id": "tGSoFDDhxBG0",
        "colab_type": "code",
        "colab": {
          "base_uri": "https://localhost:8080/",
          "height": 102
        },
        "outputId": "655fb40c-2c3f-4b78-ce54-c73bec086daa"
      },
      "source": [
        "# add folder, tmp2, from our local workspace containing pre-downloaded corpora files to nltk's data path\n",
        "filePath = f\"{getcwd()}/../tmp2/\"\n",
        "nltk.data.path.append(filePath)\n",
        "\n",
        "nltk.download('stopwords')\n",
        "nltk.download('twitter_samples')"
      ],
      "execution_count": null,
      "outputs": [
        {
          "output_type": "stream",
          "text": [
            "[nltk_data] Downloading package stopwords to /root/nltk_data...\n",
            "[nltk_data]   Package stopwords is already up-to-date!\n",
            "[nltk_data] Downloading package twitter_samples to /root/nltk_data...\n",
            "[nltk_data]   Package twitter_samples is already up-to-date!\n"
          ],
          "name": "stdout"
        },
        {
          "output_type": "execute_result",
          "data": {
            "text/plain": [
              "True"
            ]
          },
          "metadata": {
            "tags": []
          },
          "execution_count": 2
        }
      ]
    },
    {
      "cell_type": "markdown",
      "metadata": {
        "id": "WpnHxqNev1pt",
        "colab_type": "text"
      },
      "source": [
        "This function is created to process the text clean up of tweets\n"
      ]
    },
    {
      "cell_type": "code",
      "metadata": {
        "id": "SrXVDaj_x-i7",
        "colab_type": "code",
        "colab": {}
      },
      "source": [
        "def process_tweet(tweet):\n",
        "    '''\n",
        "    Input:\n",
        "        tweet: a string containing a tweet\n",
        "    Output:\n",
        "        tweets_clean: a list of words containing the processed tweet\n",
        "\n",
        "    '''\n",
        "    stemmer = PorterStemmer()\n",
        "    # remove stock market tickers like $GE\n",
        "    tweet = re.sub(r'\\$\\w*', '', tweet)\n",
        "    # remove old style retweet text \"RT\"\n",
        "    tweet = re.sub(r'^RT[\\s]+', '', tweet)\n",
        "    # remove hyperlinks\n",
        "    tweet = re.sub(r'https?:\\/\\/.*[\\r\\n]*', '', tweet)\n",
        "    tweet = re.sub('@[^\\s]+','',tweet)\n",
        "    # remove hashtags\n",
        "    # only removing the hash # sign from the word\n",
        "    tweet = re.sub(r'#', '', tweet)\n",
        "    # tokenize tweets\n",
        "\n",
        "    return tweet"
      ],
      "execution_count": null,
      "outputs": []
    },
    {
      "cell_type": "markdown",
      "metadata": {
        "id": "CykkpnrOwiMw",
        "colab_type": "text"
      },
      "source": [
        "## 2. Prep Data for Deep Learning\n",
        "\n",
        "The data is split into the training and test datasets (features and labels) and tweets are cleaned up."
      ]
    },
    {
      "cell_type": "code",
      "metadata": {
        "id": "SjOM_v44z44N",
        "colab_type": "code",
        "colab": {}
      },
      "source": [
        "# get the sets of positive and negative tweets\n",
        "all_positive_tweets = twitter_samples.strings('positive_tweets.json')\n",
        "all_negative_tweets = twitter_samples.strings('negative_tweets.json')\n",
        "\n",
        "# split the data into two pieces, one for training and one for testing (validation set)\n",
        "test_pos = all_positive_tweets[4000:]\n",
        "train_pos = all_positive_tweets[:4000]\n",
        "test_neg = all_negative_tweets[4000:]\n",
        "train_neg = all_negative_tweets[:4000]\n",
        "\n",
        "train_x = train_pos + train_neg\n",
        "test_x = test_pos + test_neg\n",
        "\n",
        "train_x_cleaned = []\n",
        "test_x_cleaned = []\n",
        "\n",
        "for i, val in enumerate(train_x): \n",
        "   train_x_cleaned.append(process_tweet(train_x[i]))\n",
        "  \n",
        "for i, val in enumerate(test_x): \n",
        "   test_x_cleaned.append(process_tweet(test_x[i]))  \n",
        "\n",
        "# avoid assumptions about the length of all_positive_tweets\n",
        "train_y = np.append(np.ones(len(train_pos)), np.zeros(len(train_neg)))\n",
        "test_y = np.append(np.ones(len(test_pos)), np.zeros(len(test_neg)))"
      ],
      "execution_count": null,
      "outputs": []
    },
    {
      "cell_type": "markdown",
      "metadata": {
        "id": "Nsp2BwzSw_0D",
        "colab_type": "text"
      },
      "source": [
        "Next, the word embedding is created based on the training features and uses post padding and truncation.  Out of vocab token is used to handled words that do not exist in the vocabulary.\n"
      ]
    },
    {
      "cell_type": "code",
      "metadata": {
        "colab_type": "code",
        "id": "7n15yyMdmoH1",
        "colab": {}
      },
      "source": [
        "vocab_size = 1000\n",
        "embedding_dim = 16\n",
        "max_length = 50\n",
        "padding_type = 'post'\n",
        "trunc_type='post'\n",
        "oov_tok = \"<OOV>\"\n",
        "\n",
        "\n",
        "from tensorflow.keras.preprocessing.text import Tokenizer\n",
        "from tensorflow.keras.preprocessing.sequence import pad_sequences\n",
        "\n",
        "tokenizer = Tokenizer(num_words = vocab_size, filters='!\"#$%&()*+,-./:;<=>?@[\\\\]^_`{|}~\\t\\n', lower=True, oov_token=oov_tok)\n",
        "tokenizer.fit_on_texts(train_x_cleaned)\n",
        "word_index = tokenizer.word_index\n",
        "sequences = tokenizer.texts_to_sequences(train_x_cleaned)\n",
        "padded = pad_sequences(sequences,maxlen=max_length, padding=padding_type,truncating=trunc_type)\n",
        "\n",
        "testing_sequences = tokenizer.texts_to_sequences(test_x)\n",
        "testing_padded = pad_sequences(testing_sequences,maxlen=max_length)"
      ],
      "execution_count": null,
      "outputs": []
    },
    {
      "cell_type": "markdown",
      "metadata": {
        "id": "AxKhr3C1_MBd",
        "colab_type": "text"
      },
      "source": [
        "The tokeinzer is tested."
      ]
    },
    {
      "cell_type": "code",
      "metadata": {
        "colab_type": "code",
        "id": "YRxoxc2apscY",
        "colab": {
          "base_uri": "https://localhost:8080/",
          "height": 54
        },
        "outputId": "a5452c7e-ba91-468e-eb3c-10d438bf22d7"
      },
      "source": [
        "sentence = \"I really think this is amazing. honest.\"\n",
        "sequence = tokenizer.texts_to_sequences(sentence)\n",
        "print(sequence)"
      ],
      "execution_count": null,
      "outputs": [
        {
          "output_type": "stream",
          "text": [
            "[[2], [], [428], [726], [6], [1], [1], [652], [], [421], [859], [2], [371], [765], [], [421], [859], [2], [536], [], [2], [536], [], [6], [665], [6], [1], [2], [371], [632], [], [], [859], [413], [371], [726], [536], [421], []]\n"
          ],
          "name": "stdout"
        }
      ]
    },
    {
      "cell_type": "markdown",
      "metadata": {
        "id": "VQsmBALsyEjP",
        "colab_type": "text"
      },
      "source": [
        "The embedding vocabulatory is reviewed to see which words are included/excluded."
      ]
    },
    {
      "cell_type": "code",
      "metadata": {
        "colab_type": "code",
        "id": "9axf0uIXVMhO",
        "colab": {
          "base_uri": "https://localhost:8080/",
          "height": 51
        },
        "outputId": "8ac87c36-4217-4596-db8e-49f7c29a4e9f"
      },
      "source": [
        "reverse_word_index = dict([(value, key) for (key, value) in word_index.items()])\n",
        "\n",
        "def decode_review(text):\n",
        "    return ' '.join([reverse_word_index.get(i, '?') for i in text])\n",
        "\n",
        "print(decode_review(padded[1]))\n",
        "print(train_x_cleaned[1])"
      ],
      "execution_count": null,
      "outputs": [
        {
          "output_type": "stream",
          "text": [
            "hey james how <OOV> please call our <OOV> <OOV> on <OOV> and we will be able to <OOV> you many thanks ? ? ? ? ? ? ? ? ? ? ? ? ? ? ? ? ? ? ? ? ? ? ? ? ? ? ? ? ?\n",
            " Hey James! How odd :/ Please call our Contact Centre on 02392441234 and we will be able to assist you :) Many thanks!\n"
          ],
          "name": "stdout"
        }
      ]
    },
    {
      "cell_type": "markdown",
      "metadata": {
        "id": "bnqDQazpyQgp",
        "colab_type": "text"
      },
      "source": [
        "## 3. Build the Model\n",
        "\n",
        "\n",
        "The define_model function is created to be able to initialize a word embedding and a model.  It allows for the configuration of the embedding size, model architecture, epochs, and learning rate.  The function also allows for the ability to include a learning rate scheduler and/or a model checkpoint as callbacks.\n"
      ]
    },
    {
      "cell_type": "code",
      "metadata": {
        "id": "Rbnd8Nwkz3j-",
        "colab_type": "code",
        "colab": {}
      },
      "source": [
        "def define_model(vocab_size, embedding_dim, max_length, model_number, epoch, learning_rate, lr_cb, cp_cb):\n",
        "\n",
        "  # set the seed and clear session to ensure consistent results and avoid past models impacting the current model\n",
        "  tf.keras.backend.clear_session()\n",
        "  tf.random.set_seed(319)\n",
        "  np.random.seed(319)\n",
        "\n",
        "  padding_type = 'post'\n",
        "  trunc_type='post'\n",
        "  oov_tok = \"<OOV>\"\n",
        "  \n",
        "  tokenizer = Tokenizer(num_words = vocab_size, filters='!\"#$%&()*+,-./:;<=>?@[\\\\]^_`{|}~\\t\\n', lower=True, oov_token=oov_tok)\n",
        "  tokenizer.fit_on_texts(train_x_cleaned)\n",
        "  word_index = tokenizer.word_index\n",
        "  sequences = tokenizer.texts_to_sequences(train_x_cleaned)\n",
        "  padded = pad_sequences(sequences,maxlen=max_length, padding=padding_type,truncating=trunc_type)\n",
        "\n",
        "  testing_sequences = tokenizer.texts_to_sequences(test_x)\n",
        "  testing_padded = pad_sequences(testing_sequences,maxlen=max_length)\n",
        "\n",
        "  # initialize the callback list\n",
        "  callback_list = []\n",
        "\n",
        "  if model_number==1:\n",
        "    # Define the model\n",
        "    model = tf.keras.Sequential([\n",
        "        tf.keras.layers.Embedding(vocab_size, embedding_dim, input_length=max_length),\n",
        "        tf.keras.layers.Flatten(),\n",
        "        tf.keras.layers.Dense(32, activation='relu'),\n",
        "        tf.keras.layers.Dense(1, activation='sigmoid')\n",
        "    ])\n",
        "  \n",
        "  if model_number==2:\n",
        "    # Define the model\n",
        "    model = tf.keras.Sequential([\n",
        "        tf.keras.layers.Embedding(vocab_size, embedding_dim, input_length=max_length),\n",
        "        tf.keras.layers.Flatten(),\n",
        "        tf.keras.layers.Dense(16, activation='relu'),\n",
        "        tf.keras.layers.Dense(1, activation='sigmoid')\n",
        "    ])\n",
        "\n",
        "  if model_number==3:\n",
        "    # Define the model\n",
        "    model = tf.keras.Sequential([\n",
        "        tf.keras.layers.Embedding(vocab_size, embedding_dim, input_length=max_length),\n",
        "        tf.keras.layers.Flatten(),\n",
        "        tf.keras.layers.Dense(4, activation='relu'),\n",
        "        tf.keras.layers.Dense(1, activation='sigmoid')\n",
        "    ])\n",
        "\n",
        "  optimizer = tf.keras.optimizers.Adam(lr=learning_rate)\n",
        "\n",
        "  if lr_cb==True:\n",
        "    lr_schedule = tf.keras.callbacks.LearningRateScheduler(\n",
        "        lambda epoch: 1e-8 * 10**(epoch / 20))\n",
        "    callback_list.append(lr_schedule)\n",
        "    optimizer = tf.keras.optimizers.Adam(lr=1e-8)\n",
        "\n",
        "  if cp_cb==True:\n",
        "    filepath = str(model_number) + \"_weights-improvement-{epoch:02d}-{val_accuracy:.2f}.hdf5\"\n",
        "    filedir = os.path.dirname(filepath)\n",
        "    checkpoint = tf.keras.callbacks.ModelCheckpoint(filepath, monitor='val_accuracy', verbose=1, save_best_only=True, mode='max')\n",
        "    callback_list.append(checkpoint)\n",
        "\n",
        "  model.compile(loss='binary_crossentropy',\n",
        "              optimizer=optimizer,\n",
        "              metrics=['accuracy'])\n",
        "  \n",
        "  model.summary()\n",
        "\n",
        "  return tokenizer, model, callback_list"
      ],
      "execution_count": null,
      "outputs": []
    },
    {
      "cell_type": "code",
      "metadata": {
        "id": "I6-eTI63z94D",
        "colab_type": "code",
        "colab": {}
      },
      "source": [
        "def chart_acc_loss(model_history):\n",
        "\n",
        "  history = model_history\n",
        "\n",
        "  acc = history.history['accuracy']\n",
        "  val_acc = history.history['val_accuracy']\n",
        "  loss = history.history['loss']\n",
        "  val_loss = history.history['val_loss']\n",
        "\n",
        "  epochs = range(len(acc))\n",
        "\n",
        "  plt.plot(epochs, acc, 'bo', label='Training accuracy')\n",
        "  plt.plot(epochs, val_acc, 'b', label='Validation accuracy')\n",
        "  plt.title('Training and validation accuracy')\n",
        "\n",
        "  plt.figure()\n",
        "\n",
        "  plt.plot(epochs, loss, 'bo', label='Training Loss')\n",
        "  plt.plot(epochs, val_loss, 'b', label='Validation Loss')\n",
        "  plt.title('Training and validation loss')\n",
        "  plt.legend()\n",
        "\n",
        "  plt.show()"
      ],
      "execution_count": null,
      "outputs": []
    },
    {
      "cell_type": "code",
      "metadata": {
        "id": "Q2N6vZVaz_pX",
        "colab_type": "code",
        "colab": {
          "base_uri": "https://localhost:8080/",
          "height": 1000
        },
        "outputId": "c3b1870d-220c-4495-e358-830a653dbbf5"
      },
      "source": [
        "vocab_size = 1000\n",
        "embedding_dim = 16\n",
        "max_length = 50\n",
        "model_number = 3\n",
        "epoch = 200\n",
        "learning_rate = 0.001\n",
        "lr_cb = True\n",
        "cp_cb = False\n",
        "\n",
        "tokenizer, model_lr_sched, callback_list = define_model(vocab_size, embedding_dim, max_length, model_number, epoch, learning_rate , lr_cb, cp_cb)\n",
        "\n",
        "history = model_lr_sched.fit(padded, train_y, \n",
        "                  epochs=epoch, \n",
        "                  validation_data = (testing_padded, test_y),\n",
        "                  callbacks=[callback_list])"
      ],
      "execution_count": null,
      "outputs": [
        {
          "output_type": "stream",
          "text": [
            "Model: \"sequential\"\n",
            "_________________________________________________________________\n",
            "Layer (type)                 Output Shape              Param #   \n",
            "=================================================================\n",
            "embedding (Embedding)        (None, 50, 16)            16000     \n",
            "_________________________________________________________________\n",
            "flatten (Flatten)            (None, 800)               0         \n",
            "_________________________________________________________________\n",
            "dense (Dense)                (None, 4)                 3204      \n",
            "_________________________________________________________________\n",
            "dense_1 (Dense)              (None, 1)                 5         \n",
            "=================================================================\n",
            "Total params: 19,209\n",
            "Trainable params: 19,209\n",
            "Non-trainable params: 0\n",
            "_________________________________________________________________\n",
            "Epoch 1/200\n",
            "250/250 [==============================] - 1s 2ms/step - loss: 0.6935 - accuracy: 0.4941 - val_loss: 0.6940 - val_accuracy: 0.4780\n",
            "Epoch 2/200\n",
            "250/250 [==============================] - 0s 2ms/step - loss: 0.6935 - accuracy: 0.4941 - val_loss: 0.6940 - val_accuracy: 0.4780\n",
            "Epoch 3/200\n",
            "250/250 [==============================] - 0s 2ms/step - loss: 0.6935 - accuracy: 0.4941 - val_loss: 0.6940 - val_accuracy: 0.4785\n",
            "Epoch 4/200\n",
            "250/250 [==============================] - 0s 2ms/step - loss: 0.6935 - accuracy: 0.4941 - val_loss: 0.6940 - val_accuracy: 0.4785\n",
            "Epoch 5/200\n",
            "250/250 [==============================] - 0s 2ms/step - loss: 0.6935 - accuracy: 0.4941 - val_loss: 0.6940 - val_accuracy: 0.4785\n",
            "Epoch 6/200\n",
            "250/250 [==============================] - 0s 2ms/step - loss: 0.6935 - accuracy: 0.4941 - val_loss: 0.6940 - val_accuracy: 0.4780\n",
            "Epoch 7/200\n",
            "250/250 [==============================] - 0s 2ms/step - loss: 0.6935 - accuracy: 0.4940 - val_loss: 0.6940 - val_accuracy: 0.4775\n",
            "Epoch 8/200\n",
            "250/250 [==============================] - 0s 2ms/step - loss: 0.6935 - accuracy: 0.4940 - val_loss: 0.6940 - val_accuracy: 0.4775\n",
            "Epoch 9/200\n",
            "250/250 [==============================] - 0s 2ms/step - loss: 0.6935 - accuracy: 0.4940 - val_loss: 0.6940 - val_accuracy: 0.4775\n",
            "Epoch 10/200\n",
            "250/250 [==============================] - 0s 2ms/step - loss: 0.6935 - accuracy: 0.4940 - val_loss: 0.6940 - val_accuracy: 0.4775\n",
            "Epoch 11/200\n",
            "250/250 [==============================] - 0s 2ms/step - loss: 0.6935 - accuracy: 0.4940 - val_loss: 0.6940 - val_accuracy: 0.4775\n",
            "Epoch 12/200\n",
            "250/250 [==============================] - 0s 2ms/step - loss: 0.6935 - accuracy: 0.4940 - val_loss: 0.6940 - val_accuracy: 0.4775\n",
            "Epoch 13/200\n",
            "250/250 [==============================] - 0s 2ms/step - loss: 0.6935 - accuracy: 0.4939 - val_loss: 0.6940 - val_accuracy: 0.4775\n",
            "Epoch 14/200\n",
            "250/250 [==============================] - 0s 2ms/step - loss: 0.6935 - accuracy: 0.4940 - val_loss: 0.6940 - val_accuracy: 0.4775\n",
            "Epoch 15/200\n",
            "250/250 [==============================] - 0s 2ms/step - loss: 0.6935 - accuracy: 0.4941 - val_loss: 0.6940 - val_accuracy: 0.4780\n",
            "Epoch 16/200\n",
            "250/250 [==============================] - 0s 2ms/step - loss: 0.6935 - accuracy: 0.4940 - val_loss: 0.6940 - val_accuracy: 0.4780\n",
            "Epoch 17/200\n",
            "250/250 [==============================] - 0s 2ms/step - loss: 0.6935 - accuracy: 0.4940 - val_loss: 0.6940 - val_accuracy: 0.4780\n",
            "Epoch 18/200\n",
            "250/250 [==============================] - 0s 2ms/step - loss: 0.6935 - accuracy: 0.4941 - val_loss: 0.6940 - val_accuracy: 0.4780\n",
            "Epoch 19/200\n",
            "250/250 [==============================] - 0s 2ms/step - loss: 0.6935 - accuracy: 0.4936 - val_loss: 0.6940 - val_accuracy: 0.4775\n",
            "Epoch 20/200\n",
            "250/250 [==============================] - 0s 2ms/step - loss: 0.6935 - accuracy: 0.4935 - val_loss: 0.6940 - val_accuracy: 0.4770\n",
            "Epoch 21/200\n",
            "250/250 [==============================] - 0s 2ms/step - loss: 0.6935 - accuracy: 0.4938 - val_loss: 0.6939 - val_accuracy: 0.4765\n",
            "Epoch 22/200\n",
            "250/250 [==============================] - 0s 2ms/step - loss: 0.6935 - accuracy: 0.4941 - val_loss: 0.6939 - val_accuracy: 0.4770\n",
            "Epoch 23/200\n",
            "250/250 [==============================] - 0s 2ms/step - loss: 0.6935 - accuracy: 0.4942 - val_loss: 0.6939 - val_accuracy: 0.4770\n",
            "Epoch 24/200\n",
            "250/250 [==============================] - 0s 2ms/step - loss: 0.6935 - accuracy: 0.4941 - val_loss: 0.6939 - val_accuracy: 0.4770\n",
            "Epoch 25/200\n",
            "250/250 [==============================] - 0s 2ms/step - loss: 0.6935 - accuracy: 0.4942 - val_loss: 0.6939 - val_accuracy: 0.4770\n",
            "Epoch 26/200\n",
            "250/250 [==============================] - 0s 2ms/step - loss: 0.6935 - accuracy: 0.4938 - val_loss: 0.6939 - val_accuracy: 0.4765\n",
            "Epoch 27/200\n",
            "250/250 [==============================] - 0s 2ms/step - loss: 0.6935 - accuracy: 0.4938 - val_loss: 0.6939 - val_accuracy: 0.4760\n",
            "Epoch 28/200\n",
            "250/250 [==============================] - 0s 2ms/step - loss: 0.6935 - accuracy: 0.4935 - val_loss: 0.6939 - val_accuracy: 0.4760\n",
            "Epoch 29/200\n",
            "250/250 [==============================] - 0s 2ms/step - loss: 0.6935 - accuracy: 0.4936 - val_loss: 0.6939 - val_accuracy: 0.4755\n",
            "Epoch 30/200\n",
            "250/250 [==============================] - 0s 2ms/step - loss: 0.6935 - accuracy: 0.4939 - val_loss: 0.6939 - val_accuracy: 0.4750\n",
            "Epoch 31/200\n",
            "250/250 [==============================] - 0s 2ms/step - loss: 0.6935 - accuracy: 0.4941 - val_loss: 0.6939 - val_accuracy: 0.4740\n",
            "Epoch 32/200\n",
            "250/250 [==============================] - 0s 2ms/step - loss: 0.6935 - accuracy: 0.4945 - val_loss: 0.6939 - val_accuracy: 0.4740\n",
            "Epoch 33/200\n",
            "250/250 [==============================] - 0s 2ms/step - loss: 0.6935 - accuracy: 0.4945 - val_loss: 0.6939 - val_accuracy: 0.4740\n",
            "Epoch 34/200\n",
            "250/250 [==============================] - 0s 2ms/step - loss: 0.6934 - accuracy: 0.4947 - val_loss: 0.6939 - val_accuracy: 0.4735\n",
            "Epoch 35/200\n",
            "250/250 [==============================] - 0s 2ms/step - loss: 0.6934 - accuracy: 0.4949 - val_loss: 0.6939 - val_accuracy: 0.4730\n",
            "Epoch 36/200\n",
            "250/250 [==============================] - 0s 2ms/step - loss: 0.6934 - accuracy: 0.4949 - val_loss: 0.6939 - val_accuracy: 0.4730\n",
            "Epoch 37/200\n",
            "250/250 [==============================] - 0s 2ms/step - loss: 0.6934 - accuracy: 0.4955 - val_loss: 0.6939 - val_accuracy: 0.4735\n",
            "Epoch 38/200\n",
            "250/250 [==============================] - 0s 2ms/step - loss: 0.6934 - accuracy: 0.4958 - val_loss: 0.6939 - val_accuracy: 0.4730\n",
            "Epoch 39/200\n",
            "250/250 [==============================] - 0s 2ms/step - loss: 0.6934 - accuracy: 0.4964 - val_loss: 0.6938 - val_accuracy: 0.4740\n",
            "Epoch 40/200\n",
            "250/250 [==============================] - 0s 2ms/step - loss: 0.6934 - accuracy: 0.4964 - val_loss: 0.6938 - val_accuracy: 0.4725\n",
            "Epoch 41/200\n",
            "250/250 [==============================] - 0s 2ms/step - loss: 0.6933 - accuracy: 0.4966 - val_loss: 0.6938 - val_accuracy: 0.4740\n",
            "Epoch 42/200\n",
            "250/250 [==============================] - 0s 2ms/step - loss: 0.6933 - accuracy: 0.4970 - val_loss: 0.6938 - val_accuracy: 0.4740\n",
            "Epoch 43/200\n",
            "250/250 [==============================] - 0s 2ms/step - loss: 0.6933 - accuracy: 0.4975 - val_loss: 0.6938 - val_accuracy: 0.4745\n",
            "Epoch 44/200\n",
            "250/250 [==============================] - 0s 2ms/step - loss: 0.6933 - accuracy: 0.4971 - val_loss: 0.6938 - val_accuracy: 0.4750\n",
            "Epoch 45/200\n",
            "250/250 [==============================] - 0s 2ms/step - loss: 0.6933 - accuracy: 0.4972 - val_loss: 0.6938 - val_accuracy: 0.4730\n",
            "Epoch 46/200\n",
            "250/250 [==============================] - 0s 2ms/step - loss: 0.6932 - accuracy: 0.4985 - val_loss: 0.6938 - val_accuracy: 0.4700\n",
            "Epoch 47/200\n",
            "250/250 [==============================] - 0s 2ms/step - loss: 0.6932 - accuracy: 0.4978 - val_loss: 0.6937 - val_accuracy: 0.4670\n",
            "Epoch 48/200\n",
            "250/250 [==============================] - 0s 1ms/step - loss: 0.6932 - accuracy: 0.4988 - val_loss: 0.6937 - val_accuracy: 0.4620\n",
            "Epoch 49/200\n",
            "250/250 [==============================] - 0s 2ms/step - loss: 0.6931 - accuracy: 0.4979 - val_loss: 0.6937 - val_accuracy: 0.4615\n",
            "Epoch 50/200\n",
            "250/250 [==============================] - 0s 2ms/step - loss: 0.6931 - accuracy: 0.4989 - val_loss: 0.6937 - val_accuracy: 0.4625\n",
            "Epoch 51/200\n",
            "250/250 [==============================] - 0s 2ms/step - loss: 0.6931 - accuracy: 0.4991 - val_loss: 0.6937 - val_accuracy: 0.4605\n",
            "Epoch 52/200\n",
            "250/250 [==============================] - 0s 2ms/step - loss: 0.6930 - accuracy: 0.5021 - val_loss: 0.6937 - val_accuracy: 0.4595\n",
            "Epoch 53/200\n",
            "250/250 [==============================] - 0s 2ms/step - loss: 0.6930 - accuracy: 0.5015 - val_loss: 0.6937 - val_accuracy: 0.4600\n",
            "Epoch 54/200\n",
            "250/250 [==============================] - 0s 2ms/step - loss: 0.6929 - accuracy: 0.5034 - val_loss: 0.6937 - val_accuracy: 0.4590\n",
            "Epoch 55/200\n",
            "250/250 [==============================] - 0s 2ms/step - loss: 0.6929 - accuracy: 0.5049 - val_loss: 0.6937 - val_accuracy: 0.4545\n",
            "Epoch 56/200\n",
            "250/250 [==============================] - 0s 2ms/step - loss: 0.6928 - accuracy: 0.5102 - val_loss: 0.6937 - val_accuracy: 0.4530\n",
            "Epoch 57/200\n",
            "250/250 [==============================] - 0s 2ms/step - loss: 0.6927 - accuracy: 0.5210 - val_loss: 0.6937 - val_accuracy: 0.4535\n",
            "Epoch 58/200\n",
            "250/250 [==============================] - 0s 2ms/step - loss: 0.6926 - accuracy: 0.5303 - val_loss: 0.6937 - val_accuracy: 0.4580\n",
            "Epoch 59/200\n",
            "250/250 [==============================] - 0s 2ms/step - loss: 0.6924 - accuracy: 0.5374 - val_loss: 0.6937 - val_accuracy: 0.4665\n",
            "Epoch 60/200\n",
            "250/250 [==============================] - 0s 2ms/step - loss: 0.6922 - accuracy: 0.5519 - val_loss: 0.6936 - val_accuracy: 0.4770\n",
            "Epoch 61/200\n",
            "250/250 [==============================] - 0s 2ms/step - loss: 0.6920 - accuracy: 0.5639 - val_loss: 0.6936 - val_accuracy: 0.4835\n",
            "Epoch 62/200\n",
            "250/250 [==============================] - 0s 2ms/step - loss: 0.6917 - accuracy: 0.5695 - val_loss: 0.6936 - val_accuracy: 0.4840\n",
            "Epoch 63/200\n",
            "250/250 [==============================] - 0s 2ms/step - loss: 0.6913 - accuracy: 0.5774 - val_loss: 0.6936 - val_accuracy: 0.4775\n",
            "Epoch 64/200\n",
            "250/250 [==============================] - 0s 2ms/step - loss: 0.6909 - accuracy: 0.5832 - val_loss: 0.6937 - val_accuracy: 0.4665\n",
            "Epoch 65/200\n",
            "250/250 [==============================] - 0s 2ms/step - loss: 0.6903 - accuracy: 0.5978 - val_loss: 0.6939 - val_accuracy: 0.4595\n",
            "Epoch 66/200\n",
            "250/250 [==============================] - 0s 2ms/step - loss: 0.6895 - accuracy: 0.6069 - val_loss: 0.6940 - val_accuracy: 0.4660\n",
            "Epoch 67/200\n",
            "250/250 [==============================] - 0s 2ms/step - loss: 0.6886 - accuracy: 0.6151 - val_loss: 0.6940 - val_accuracy: 0.4605\n",
            "Epoch 68/200\n",
            "250/250 [==============================] - 0s 2ms/step - loss: 0.6874 - accuracy: 0.6317 - val_loss: 0.6940 - val_accuracy: 0.4620\n",
            "Epoch 69/200\n",
            "250/250 [==============================] - 0s 2ms/step - loss: 0.6859 - accuracy: 0.6388 - val_loss: 0.6940 - val_accuracy: 0.4660\n",
            "Epoch 70/200\n",
            "250/250 [==============================] - 0s 2ms/step - loss: 0.6840 - accuracy: 0.6591 - val_loss: 0.6940 - val_accuracy: 0.4680\n",
            "Epoch 71/200\n",
            "250/250 [==============================] - 0s 2ms/step - loss: 0.6815 - accuracy: 0.6653 - val_loss: 0.6940 - val_accuracy: 0.4675\n",
            "Epoch 72/200\n",
            "250/250 [==============================] - 0s 2ms/step - loss: 0.6783 - accuracy: 0.6839 - val_loss: 0.6940 - val_accuracy: 0.4670\n",
            "Epoch 73/200\n",
            "250/250 [==============================] - 0s 2ms/step - loss: 0.6740 - accuracy: 0.6920 - val_loss: 0.6940 - val_accuracy: 0.4660\n",
            "Epoch 74/200\n",
            "250/250 [==============================] - 0s 2ms/step - loss: 0.6682 - accuracy: 0.7099 - val_loss: 0.6939 - val_accuracy: 0.4585\n",
            "Epoch 75/200\n",
            "250/250 [==============================] - 0s 2ms/step - loss: 0.6603 - accuracy: 0.7284 - val_loss: 0.6941 - val_accuracy: 0.4600\n",
            "Epoch 76/200\n",
            "250/250 [==============================] - 0s 2ms/step - loss: 0.6498 - accuracy: 0.7369 - val_loss: 0.6947 - val_accuracy: 0.4810\n",
            "Epoch 77/200\n",
            "250/250 [==============================] - 0s 2ms/step - loss: 0.6361 - accuracy: 0.7355 - val_loss: 0.6945 - val_accuracy: 0.4740\n",
            "Epoch 78/200\n",
            "250/250 [==============================] - 0s 2ms/step - loss: 0.6185 - accuracy: 0.7435 - val_loss: 0.6946 - val_accuracy: 0.4630\n",
            "Epoch 79/200\n",
            "250/250 [==============================] - 0s 2ms/step - loss: 0.5980 - accuracy: 0.7571 - val_loss: 0.6945 - val_accuracy: 0.4995\n",
            "Epoch 80/200\n",
            "250/250 [==============================] - 0s 2ms/step - loss: 0.5746 - accuracy: 0.7631 - val_loss: 0.6949 - val_accuracy: 0.4755\n",
            "Epoch 81/200\n",
            "250/250 [==============================] - 0s 2ms/step - loss: 0.5501 - accuracy: 0.7697 - val_loss: 0.6966 - val_accuracy: 0.4990\n",
            "Epoch 82/200\n",
            "250/250 [==============================] - 0s 2ms/step - loss: 0.5261 - accuracy: 0.7770 - val_loss: 0.6962 - val_accuracy: 0.5025\n",
            "Epoch 83/200\n",
            "250/250 [==============================] - 0s 2ms/step - loss: 0.5030 - accuracy: 0.7810 - val_loss: 0.7001 - val_accuracy: 0.5000\n",
            "Epoch 84/200\n",
            "250/250 [==============================] - 0s 2ms/step - loss: 0.4812 - accuracy: 0.7868 - val_loss: 0.6969 - val_accuracy: 0.5035\n",
            "Epoch 85/200\n",
            "250/250 [==============================] - 0s 2ms/step - loss: 0.4609 - accuracy: 0.7961 - val_loss: 0.6983 - val_accuracy: 0.5005\n",
            "Epoch 86/200\n",
            "250/250 [==============================] - 0s 2ms/step - loss: 0.4413 - accuracy: 0.8035 - val_loss: 0.7079 - val_accuracy: 0.5000\n",
            "Epoch 87/200\n",
            "250/250 [==============================] - 0s 2ms/step - loss: 0.4234 - accuracy: 0.8123 - val_loss: 0.7085 - val_accuracy: 0.5000\n",
            "Epoch 88/200\n",
            "250/250 [==============================] - 0s 2ms/step - loss: 0.4063 - accuracy: 0.8221 - val_loss: 0.7114 - val_accuracy: 0.5000\n",
            "Epoch 89/200\n",
            "250/250 [==============================] - 0s 2ms/step - loss: 0.3899 - accuracy: 0.8290 - val_loss: 0.7351 - val_accuracy: 0.5000\n",
            "Epoch 90/200\n",
            "250/250 [==============================] - 0s 2ms/step - loss: 0.3742 - accuracy: 0.8378 - val_loss: 0.7190 - val_accuracy: 0.5000\n",
            "Epoch 91/200\n",
            "250/250 [==============================] - 0s 2ms/step - loss: 0.3585 - accuracy: 0.8464 - val_loss: 0.7340 - val_accuracy: 0.5000\n",
            "Epoch 92/200\n",
            "250/250 [==============================] - 0s 2ms/step - loss: 0.3428 - accuracy: 0.8537 - val_loss: 0.7346 - val_accuracy: 0.5000\n",
            "Epoch 93/200\n",
            "250/250 [==============================] - 0s 2ms/step - loss: 0.3278 - accuracy: 0.8601 - val_loss: 0.7197 - val_accuracy: 0.4960\n",
            "Epoch 94/200\n",
            "250/250 [==============================] - 0s 2ms/step - loss: 0.3123 - accuracy: 0.8710 - val_loss: 0.7311 - val_accuracy: 0.4965\n",
            "Epoch 95/200\n",
            "250/250 [==============================] - 0s 2ms/step - loss: 0.2955 - accuracy: 0.8796 - val_loss: 0.7241 - val_accuracy: 0.4765\n",
            "Epoch 96/200\n",
            "250/250 [==============================] - 0s 2ms/step - loss: 0.2778 - accuracy: 0.8875 - val_loss: 0.7257 - val_accuracy: 0.3650\n",
            "Epoch 97/200\n",
            "250/250 [==============================] - 0s 2ms/step - loss: 0.2603 - accuracy: 0.8956 - val_loss: 0.7359 - val_accuracy: 0.3650\n",
            "Epoch 98/200\n",
            "250/250 [==============================] - 0s 2ms/step - loss: 0.2443 - accuracy: 0.9054 - val_loss: 0.7625 - val_accuracy: 0.3285\n",
            "Epoch 99/200\n",
            "250/250 [==============================] - 0s 2ms/step - loss: 0.2233 - accuracy: 0.9158 - val_loss: 0.7736 - val_accuracy: 0.2975\n",
            "Epoch 100/200\n",
            "250/250 [==============================] - 0s 2ms/step - loss: 0.2070 - accuracy: 0.9226 - val_loss: 0.8024 - val_accuracy: 0.3055\n",
            "Epoch 101/200\n",
            "250/250 [==============================] - 0s 2ms/step - loss: 0.1888 - accuracy: 0.9268 - val_loss: 0.8675 - val_accuracy: 0.4105\n",
            "Epoch 102/200\n",
            "250/250 [==============================] - 0s 2ms/step - loss: 0.1730 - accuracy: 0.9331 - val_loss: 0.8957 - val_accuracy: 0.2710\n",
            "Epoch 103/200\n",
            "250/250 [==============================] - 0s 1ms/step - loss: 0.1565 - accuracy: 0.9395 - val_loss: 1.0062 - val_accuracy: 0.3580\n",
            "Epoch 104/200\n",
            "250/250 [==============================] - 0s 2ms/step - loss: 0.1454 - accuracy: 0.9417 - val_loss: 1.0453 - val_accuracy: 0.2650\n",
            "Epoch 105/200\n",
            "250/250 [==============================] - 0s 2ms/step - loss: 0.1304 - accuracy: 0.9480 - val_loss: 1.1998 - val_accuracy: 0.3315\n",
            "Epoch 106/200\n",
            "250/250 [==============================] - 0s 2ms/step - loss: 0.1207 - accuracy: 0.9510 - val_loss: 1.3431 - val_accuracy: 0.3065\n",
            "Epoch 107/200\n",
            "250/250 [==============================] - 0s 2ms/step - loss: 0.1113 - accuracy: 0.9539 - val_loss: 1.4702 - val_accuracy: 0.2935\n",
            "Epoch 108/200\n",
            "250/250 [==============================] - 0s 2ms/step - loss: 0.1078 - accuracy: 0.9556 - val_loss: 1.6825 - val_accuracy: 0.2625\n",
            "Epoch 109/200\n",
            "250/250 [==============================] - 0s 2ms/step - loss: 0.1014 - accuracy: 0.9596 - val_loss: 1.9337 - val_accuracy: 0.2620\n",
            "Epoch 110/200\n",
            "250/250 [==============================] - 0s 2ms/step - loss: 0.1016 - accuracy: 0.9563 - val_loss: 2.0663 - val_accuracy: 0.2760\n",
            "Epoch 111/200\n",
            "250/250 [==============================] - 0s 2ms/step - loss: 0.1009 - accuracy: 0.9575 - val_loss: 2.2864 - val_accuracy: 0.2600\n",
            "Epoch 112/200\n",
            "250/250 [==============================] - 0s 2ms/step - loss: 0.0993 - accuracy: 0.9574 - val_loss: 2.6234 - val_accuracy: 0.3095\n",
            "Epoch 113/200\n",
            "250/250 [==============================] - 0s 2ms/step - loss: 0.1023 - accuracy: 0.9541 - val_loss: 2.6760 - val_accuracy: 0.2815\n",
            "Epoch 114/200\n",
            "250/250 [==============================] - 0s 2ms/step - loss: 0.1167 - accuracy: 0.9491 - val_loss: 2.1507 - val_accuracy: 0.2670\n",
            "Epoch 115/200\n",
            "250/250 [==============================] - 0s 2ms/step - loss: 0.1260 - accuracy: 0.9442 - val_loss: 2.4134 - val_accuracy: 0.2620\n",
            "Epoch 116/200\n",
            "250/250 [==============================] - 0s 2ms/step - loss: 0.1189 - accuracy: 0.9469 - val_loss: 2.7668 - val_accuracy: 0.2550\n",
            "Epoch 117/200\n",
            "250/250 [==============================] - 0s 2ms/step - loss: 0.1071 - accuracy: 0.9536 - val_loss: 2.9155 - val_accuracy: 0.2510\n",
            "Epoch 118/200\n",
            "250/250 [==============================] - 0s 2ms/step - loss: 0.1111 - accuracy: 0.9491 - val_loss: 2.8630 - val_accuracy: 0.2940\n",
            "Epoch 119/200\n",
            "250/250 [==============================] - 0s 2ms/step - loss: 0.1173 - accuracy: 0.9510 - val_loss: 2.4742 - val_accuracy: 0.2825\n",
            "Epoch 120/200\n",
            "250/250 [==============================] - 0s 2ms/step - loss: 0.1159 - accuracy: 0.9525 - val_loss: 2.5418 - val_accuracy: 0.2630\n",
            "Epoch 121/200\n",
            "250/250 [==============================] - 0s 2ms/step - loss: 0.1164 - accuracy: 0.9492 - val_loss: 2.9048 - val_accuracy: 0.2760\n",
            "Epoch 122/200\n",
            "250/250 [==============================] - 0s 2ms/step - loss: 0.1256 - accuracy: 0.9473 - val_loss: 2.9581 - val_accuracy: 0.2535\n",
            "Epoch 123/200\n",
            "250/250 [==============================] - 0s 2ms/step - loss: 0.1145 - accuracy: 0.9519 - val_loss: 3.2204 - val_accuracy: 0.2520\n",
            "Epoch 124/200\n",
            "250/250 [==============================] - 0s 2ms/step - loss: 0.1177 - accuracy: 0.9498 - val_loss: 2.8894 - val_accuracy: 0.2710\n",
            "Epoch 125/200\n",
            "250/250 [==============================] - 0s 2ms/step - loss: 0.1382 - accuracy: 0.9405 - val_loss: 3.2601 - val_accuracy: 0.2550\n",
            "Epoch 126/200\n",
            "250/250 [==============================] - 0s 2ms/step - loss: 0.1370 - accuracy: 0.9429 - val_loss: 2.9871 - val_accuracy: 0.2585\n",
            "Epoch 127/200\n",
            "250/250 [==============================] - 0s 2ms/step - loss: 0.1266 - accuracy: 0.9476 - val_loss: 3.1514 - val_accuracy: 0.2680\n",
            "Epoch 128/200\n",
            "250/250 [==============================] - 0s 2ms/step - loss: 0.1297 - accuracy: 0.9465 - val_loss: 2.7643 - val_accuracy: 0.2715\n",
            "Epoch 129/200\n",
            "250/250 [==============================] - 0s 2ms/step - loss: 0.1214 - accuracy: 0.9473 - val_loss: 3.5828 - val_accuracy: 0.2695\n",
            "Epoch 130/200\n",
            "250/250 [==============================] - 0s 2ms/step - loss: 0.1270 - accuracy: 0.9426 - val_loss: 2.5257 - val_accuracy: 0.2610\n",
            "Epoch 131/200\n",
            "250/250 [==============================] - 0s 2ms/step - loss: 0.1579 - accuracy: 0.9320 - val_loss: 2.1485 - val_accuracy: 0.2570\n",
            "Epoch 132/200\n",
            "250/250 [==============================] - 0s 2ms/step - loss: 0.1593 - accuracy: 0.9326 - val_loss: 2.9305 - val_accuracy: 0.2570\n",
            "Epoch 133/200\n",
            "250/250 [==============================] - 0s 2ms/step - loss: 0.1630 - accuracy: 0.9316 - val_loss: 3.7257 - val_accuracy: 0.2465\n",
            "Epoch 134/200\n",
            "250/250 [==============================] - 0s 2ms/step - loss: 0.1605 - accuracy: 0.9329 - val_loss: 3.4898 - val_accuracy: 0.3010\n",
            "Epoch 135/200\n",
            "250/250 [==============================] - 0s 2ms/step - loss: 0.1708 - accuracy: 0.9296 - val_loss: 3.1405 - val_accuracy: 0.4225\n",
            "Epoch 136/200\n",
            "250/250 [==============================] - 0s 2ms/step - loss: 0.2493 - accuracy: 0.8882 - val_loss: 1.6664 - val_accuracy: 0.4440\n",
            "Epoch 137/200\n",
            "250/250 [==============================] - 0s 2ms/step - loss: 0.4353 - accuracy: 0.8054 - val_loss: 7.5866 - val_accuracy: 0.2710\n",
            "Epoch 138/200\n",
            "250/250 [==============================] - 0s 2ms/step - loss: 0.5507 - accuracy: 0.6977 - val_loss: 1.3554 - val_accuracy: 0.4970\n",
            "Epoch 139/200\n",
            "250/250 [==============================] - 0s 2ms/step - loss: 0.5820 - accuracy: 0.6524 - val_loss: 6.2950 - val_accuracy: 0.4405\n",
            "Epoch 140/200\n",
            "250/250 [==============================] - 0s 2ms/step - loss: 0.6646 - accuracy: 0.5626 - val_loss: 25.1041 - val_accuracy: 0.4995\n",
            "Epoch 141/200\n",
            "250/250 [==============================] - 0s 2ms/step - loss: 0.6958 - accuracy: 0.4908 - val_loss: 25.1031 - val_accuracy: 0.4995\n",
            "Epoch 142/200\n",
            "250/250 [==============================] - 0s 2ms/step - loss: 0.6947 - accuracy: 0.4956 - val_loss: 25.0917 - val_accuracy: 0.4970\n",
            "Epoch 143/200\n",
            "250/250 [==============================] - 0s 2ms/step - loss: 0.6956 - accuracy: 0.5052 - val_loss: 25.1114 - val_accuracy: 0.4995\n",
            "Epoch 144/200\n",
            "250/250 [==============================] - 0s 2ms/step - loss: 0.6963 - accuracy: 0.4979 - val_loss: 25.0972 - val_accuracy: 0.4970\n",
            "Epoch 145/200\n",
            "250/250 [==============================] - 0s 2ms/step - loss: 0.6946 - accuracy: 0.5001 - val_loss: 25.1173 - val_accuracy: 0.4995\n",
            "Epoch 146/200\n",
            "250/250 [==============================] - 0s 2ms/step - loss: 0.6964 - accuracy: 0.4952 - val_loss: 25.1062 - val_accuracy: 0.4995\n",
            "Epoch 147/200\n",
            "250/250 [==============================] - 0s 2ms/step - loss: 0.6972 - accuracy: 0.4979 - val_loss: 25.0896 - val_accuracy: 0.4970\n",
            "Epoch 148/200\n",
            "250/250 [==============================] - 0s 2ms/step - loss: 0.6968 - accuracy: 0.4996 - val_loss: 25.1279 - val_accuracy: 0.4995\n",
            "Epoch 149/200\n",
            "250/250 [==============================] - 0s 2ms/step - loss: 0.6996 - accuracy: 0.4967 - val_loss: 25.0981 - val_accuracy: 0.4970\n",
            "Epoch 150/200\n",
            "250/250 [==============================] - 0s 2ms/step - loss: 0.6993 - accuracy: 0.4959 - val_loss: 25.0962 - val_accuracy: 0.4970\n",
            "Epoch 151/200\n",
            "250/250 [==============================] - 0s 2ms/step - loss: 0.6980 - accuracy: 0.4981 - val_loss: 25.1303 - val_accuracy: 0.4995\n",
            "Epoch 152/200\n",
            "250/250 [==============================] - 0s 2ms/step - loss: 0.7001 - accuracy: 0.4933 - val_loss: 25.0915 - val_accuracy: 0.4970\n",
            "Epoch 153/200\n",
            "250/250 [==============================] - 0s 2ms/step - loss: 0.7030 - accuracy: 0.5029 - val_loss: 25.0978 - val_accuracy: 0.4970\n",
            "Epoch 154/200\n",
            "250/250 [==============================] - 0s 2ms/step - loss: 0.6999 - accuracy: 0.4972 - val_loss: 25.0889 - val_accuracy: 0.4970\n",
            "Epoch 155/200\n",
            "250/250 [==============================] - 0s 2ms/step - loss: 0.6998 - accuracy: 0.4995 - val_loss: 25.0956 - val_accuracy: 0.4970\n",
            "Epoch 156/200\n",
            "250/250 [==============================] - 0s 2ms/step - loss: 0.7037 - accuracy: 0.4983 - val_loss: 25.1150 - val_accuracy: 0.4995\n",
            "Epoch 157/200\n",
            "250/250 [==============================] - 0s 2ms/step - loss: 0.7143 - accuracy: 0.5027 - val_loss: 25.0935 - val_accuracy: 0.4970\n",
            "Epoch 158/200\n",
            "250/250 [==============================] - 0s 2ms/step - loss: 0.7002 - accuracy: 0.5071 - val_loss: 25.1043 - val_accuracy: 0.4995\n",
            "Epoch 159/200\n",
            "250/250 [==============================] - 0s 2ms/step - loss: 0.7156 - accuracy: 0.5005 - val_loss: 25.1082 - val_accuracy: 0.4995\n",
            "Epoch 160/200\n",
            "250/250 [==============================] - 0s 2ms/step - loss: 0.7087 - accuracy: 0.4854 - val_loss: 25.1058 - val_accuracy: 0.4995\n",
            "Epoch 161/200\n",
            "250/250 [==============================] - 0s 2ms/step - loss: 0.7104 - accuracy: 0.4888 - val_loss: 25.0915 - val_accuracy: 0.4970\n",
            "Epoch 162/200\n",
            "250/250 [==============================] - 0s 2ms/step - loss: 0.7111 - accuracy: 0.4952 - val_loss: 25.0889 - val_accuracy: 0.4970\n",
            "Epoch 163/200\n",
            "250/250 [==============================] - 0s 2ms/step - loss: 0.7165 - accuracy: 0.5009 - val_loss: 25.1882 - val_accuracy: 0.4995\n",
            "Epoch 164/200\n",
            "250/250 [==============================] - 0s 2ms/step - loss: 0.7184 - accuracy: 0.5130 - val_loss: 25.0891 - val_accuracy: 0.4970\n",
            "Epoch 165/200\n",
            "250/250 [==============================] - 0s 2ms/step - loss: 0.7115 - accuracy: 0.5110 - val_loss: 25.3170 - val_accuracy: 0.4995\n",
            "Epoch 166/200\n",
            "250/250 [==============================] - 0s 2ms/step - loss: 0.7195 - accuracy: 0.5049 - val_loss: 25.1314 - val_accuracy: 0.4995\n",
            "Epoch 167/200\n",
            "250/250 [==============================] - 0s 2ms/step - loss: 0.7249 - accuracy: 0.5026 - val_loss: 25.0953 - val_accuracy: 0.4970\n",
            "Epoch 168/200\n",
            "250/250 [==============================] - 0s 2ms/step - loss: 0.7233 - accuracy: 0.4979 - val_loss: 25.2223 - val_accuracy: 0.4995\n",
            "Epoch 169/200\n",
            "250/250 [==============================] - 0s 2ms/step - loss: 0.7435 - accuracy: 0.4974 - val_loss: 25.0920 - val_accuracy: 0.4970\n",
            "Epoch 170/200\n",
            "250/250 [==============================] - 0s 2ms/step - loss: 0.7510 - accuracy: 0.5077 - val_loss: 25.1055 - val_accuracy: 0.4995\n",
            "Epoch 171/200\n",
            "250/250 [==============================] - 0s 2ms/step - loss: 0.7368 - accuracy: 0.5102 - val_loss: 25.1019 - val_accuracy: 0.4970\n",
            "Epoch 172/200\n",
            "250/250 [==============================] - 0s 2ms/step - loss: 0.7461 - accuracy: 0.4978 - val_loss: 25.1013 - val_accuracy: 0.4970\n",
            "Epoch 173/200\n",
            "250/250 [==============================] - 0s 2ms/step - loss: 0.7692 - accuracy: 0.4981 - val_loss: 25.0899 - val_accuracy: 0.4970\n",
            "Epoch 174/200\n",
            "250/250 [==============================] - 0s 2ms/step - loss: 0.7616 - accuracy: 0.5023 - val_loss: 25.1323 - val_accuracy: 0.4970\n",
            "Epoch 175/200\n",
            "250/250 [==============================] - 0s 2ms/step - loss: 0.7360 - accuracy: 0.5020 - val_loss: 25.1097 - val_accuracy: 0.4995\n",
            "Epoch 176/200\n",
            "250/250 [==============================] - 0s 2ms/step - loss: 0.7780 - accuracy: 0.4947 - val_loss: 25.1163 - val_accuracy: 0.4995\n",
            "Epoch 177/200\n",
            "250/250 [==============================] - 0s 2ms/step - loss: 0.7964 - accuracy: 0.5042 - val_loss: 25.2345 - val_accuracy: 0.4975\n",
            "Epoch 178/200\n",
            "250/250 [==============================] - 0s 2ms/step - loss: 0.7789 - accuracy: 0.5071 - val_loss: 25.1387 - val_accuracy: 0.4970\n",
            "Epoch 179/200\n",
            "250/250 [==============================] - 0s 2ms/step - loss: 0.8086 - accuracy: 0.4924 - val_loss: 25.1163 - val_accuracy: 0.4970\n",
            "Epoch 180/200\n",
            "250/250 [==============================] - 0s 2ms/step - loss: 0.9185 - accuracy: 0.4952 - val_loss: 25.1292 - val_accuracy: 0.4995\n",
            "Epoch 181/200\n",
            "250/250 [==============================] - 0s 2ms/step - loss: 0.8253 - accuracy: 0.5010 - val_loss: 25.0993 - val_accuracy: 0.4970\n",
            "Epoch 182/200\n",
            "250/250 [==============================] - 0s 2ms/step - loss: 0.7821 - accuracy: 0.4997 - val_loss: 25.1027 - val_accuracy: 0.4995\n",
            "Epoch 183/200\n",
            "250/250 [==============================] - 0s 2ms/step - loss: 0.8005 - accuracy: 0.4960 - val_loss: 25.7499 - val_accuracy: 0.4995\n",
            "Epoch 184/200\n",
            "250/250 [==============================] - 0s 2ms/step - loss: 0.8562 - accuracy: 0.5034 - val_loss: 25.1354 - val_accuracy: 0.4995\n",
            "Epoch 185/200\n",
            "250/250 [==============================] - 0s 2ms/step - loss: 0.9170 - accuracy: 0.4942 - val_loss: 25.0910 - val_accuracy: 0.4970\n",
            "Epoch 186/200\n",
            "250/250 [==============================] - 0s 2ms/step - loss: 1.2099 - accuracy: 0.5027 - val_loss: 25.1143 - val_accuracy: 0.4970\n",
            "Epoch 187/200\n",
            "250/250 [==============================] - 0s 2ms/step - loss: 1.0656 - accuracy: 0.4955 - val_loss: 25.0927 - val_accuracy: 0.4970\n",
            "Epoch 188/200\n",
            "250/250 [==============================] - 0s 2ms/step - loss: 0.9555 - accuracy: 0.5079 - val_loss: 25.0997 - val_accuracy: 0.4970\n",
            "Epoch 189/200\n",
            "250/250 [==============================] - 0s 2ms/step - loss: 0.9581 - accuracy: 0.4884 - val_loss: 25.8637 - val_accuracy: 0.4975\n",
            "Epoch 190/200\n",
            "250/250 [==============================] - 0s 2ms/step - loss: 0.9931 - accuracy: 0.5079 - val_loss: 25.0944 - val_accuracy: 0.4970\n",
            "Epoch 191/200\n",
            "250/250 [==============================] - 0s 2ms/step - loss: 1.6815 - accuracy: 0.5004 - val_loss: 25.8850 - val_accuracy: 0.4975\n",
            "Epoch 192/200\n",
            "250/250 [==============================] - 0s 2ms/step - loss: 1.8459 - accuracy: 0.5020 - val_loss: 25.4719 - val_accuracy: 0.4975\n",
            "Epoch 193/200\n",
            "250/250 [==============================] - 0s 2ms/step - loss: 1.7105 - accuracy: 0.4989 - val_loss: 25.2853 - val_accuracy: 0.4975\n",
            "Epoch 194/200\n",
            "250/250 [==============================] - 0s 2ms/step - loss: 2.1400 - accuracy: 0.5065 - val_loss: 25.1168 - val_accuracy: 0.4970\n",
            "Epoch 195/200\n",
            "250/250 [==============================] - 0s 2ms/step - loss: 2.2444 - accuracy: 0.4981 - val_loss: 25.5152 - val_accuracy: 0.4975\n",
            "Epoch 196/200\n",
            "250/250 [==============================] - 0s 2ms/step - loss: 2.7640 - accuracy: 0.5070 - val_loss: 25.0990 - val_accuracy: 0.4970\n",
            "Epoch 197/200\n",
            "250/250 [==============================] - 0s 2ms/step - loss: 3.3574 - accuracy: 0.4997 - val_loss: 25.6482 - val_accuracy: 0.4995\n",
            "Epoch 198/200\n",
            "250/250 [==============================] - 0s 2ms/step - loss: 2.8464 - accuracy: 0.5017 - val_loss: 26.0124 - val_accuracy: 0.4995\n",
            "Epoch 199/200\n",
            "250/250 [==============================] - 0s 2ms/step - loss: 5.6843 - accuracy: 0.5066 - val_loss: 29.4453 - val_accuracy: 0.4970\n",
            "Epoch 200/200\n",
            "250/250 [==============================] - 0s 2ms/step - loss: 3.9868 - accuracy: 0.5023 - val_loss: 25.9861 - val_accuracy: 0.4995\n"
          ],
          "name": "stdout"
        }
      ]
    },
    {
      "cell_type": "code",
      "metadata": {
        "id": "kVu8XM9D1ddJ",
        "colab_type": "code",
        "colab": {
          "base_uri": "https://localhost:8080/",
          "height": 269
        },
        "outputId": "caad3ef5-2bbc-4cf0-b338-5220da7f3f18"
      },
      "source": [
        "# review the learning rate performance\n",
        "\n",
        "plt.semilogx(history.history[\"lr\"], history.history[\"loss\"])\n",
        "\n",
        "plt.show()"
      ],
      "execution_count": null,
      "outputs": [
        {
          "output_type": "display_data",
          "data": {
            "image/png": "[encoded data removed]",
            "text/plain": [
              "<Figure size 432x288 with 1 Axes>"
            ]
          },
          "metadata": {
            "tags": [],
            "needs_background": "light"
          }
        }
      ]
    },
    {
      "cell_type": "markdown",
      "metadata": {
        "id": "6ZdD2jo13DT_",
        "colab_type": "text"
      },
      "source": [
        "Based on the chart, the learning rate of 0.01(10e-3) appears to be the best option, but when a model is trained using this learning rate.  The accuracy and loss charts show instability, which means that the learning rate is probably too high."
      ]
    },
    {
      "cell_type": "code",
      "metadata": {
        "id": "6Ks0xH8S3BN4",
        "colab_type": "code",
        "colab": {
          "base_uri": "https://localhost:8080/",
          "height": 1000
        },
        "outputId": "7739ec07-bc51-4823-c838-8691fc0ba4a8"
      },
      "source": [
        "vocab_size = 1000\n",
        "embedding_dim = 16\n",
        "max_length = 50\n",
        "model_number = 3\n",
        "epoch = 20\n",
        "learning_rate = 0.001\n",
        "lr_cb = False\n",
        "cp_cb = True\n",
        "\n",
        "tokenizer, model_lr_sched, callback_list = define_model(vocab_size, embedding_dim, max_length,model_number, epoch, learning_rate , lr_cb, cp_cb)\n",
        "\n",
        "history = model_lr_sched.fit(padded, train_y, \n",
        "                  epochs=epoch, \n",
        "                  validation_data = (testing_padded, test_y),\n",
        "                  callbacks=[callback_list])\n",
        "\n",
        "# review the learning rate performance\n",
        "chart_acc_loss(history)"
      ],
      "execution_count": null,
      "outputs": [
        {
          "output_type": "stream",
          "text": [
            "Model: \"sequential\"\n",
            "_________________________________________________________________\n",
            "Layer (type)                 Output Shape              Param #   \n",
            "=================================================================\n",
            "embedding (Embedding)        (None, 50, 16)            16000     \n",
            "_________________________________________________________________\n",
            "flatten (Flatten)            (None, 800)               0         \n",
            "_________________________________________________________________\n",
            "dense (Dense)                (None, 4)                 3204      \n",
            "_________________________________________________________________\n",
            "dense_1 (Dense)              (None, 1)                 5         \n",
            "=================================================================\n",
            "Total params: 19,209\n",
            "Trainable params: 19,209\n",
            "Non-trainable params: 0\n",
            "_________________________________________________________________\n",
            "Epoch 1/20\n",
            "237/250 [===========================>..] - ETA: 0s - loss: 0.6568 - accuracy: 0.6262\n",
            "Epoch 00001: val_accuracy improved from -inf to 0.49050, saving model to 3_weights-improvement-01-0.49.hdf5\n",
            "250/250 [==============================] - 1s 2ms/step - loss: 0.6512 - accuracy: 0.6326 - val_loss: 0.7151 - val_accuracy: 0.4905\n",
            "Epoch 2/20\n",
            "242/250 [============================>.] - ETA: 0s - loss: 0.4799 - accuracy: 0.7761\n",
            "Epoch 00002: val_accuracy improved from 0.49050 to 0.50000, saving model to 3_weights-improvement-02-0.50.hdf5\n",
            "250/250 [==============================] - 0s 2ms/step - loss: 0.4805 - accuracy: 0.7759 - val_loss: 0.7823 - val_accuracy: 0.5000\n",
            "Epoch 3/20\n",
            "225/250 [==========================>...] - ETA: 0s - loss: 0.4039 - accuracy: 0.8153\n",
            "Epoch 00003: val_accuracy did not improve from 0.50000\n",
            "250/250 [==============================] - 0s 2ms/step - loss: 0.3996 - accuracy: 0.8180 - val_loss: 0.8771 - val_accuracy: 0.5000\n",
            "Epoch 4/20\n",
            "224/250 [=========================>....] - ETA: 0s - loss: 0.3539 - accuracy: 0.8443\n",
            "Epoch 00004: val_accuracy did not improve from 0.50000\n",
            "250/250 [==============================] - 0s 2ms/step - loss: 0.3553 - accuracy: 0.8425 - val_loss: 0.7784 - val_accuracy: 0.2995\n",
            "Epoch 5/20\n",
            "241/250 [===========================>..] - ETA: 0s - loss: 0.3183 - accuracy: 0.8641\n",
            "Epoch 00005: val_accuracy did not improve from 0.50000\n",
            "250/250 [==============================] - 0s 2ms/step - loss: 0.3188 - accuracy: 0.8633 - val_loss: 0.8604 - val_accuracy: 0.4840\n",
            "Epoch 6/20\n",
            "230/250 [==========================>...] - ETA: 0s - loss: 0.2864 - accuracy: 0.8788\n",
            "Epoch 00006: val_accuracy did not improve from 0.50000\n",
            "250/250 [==============================] - 0s 2ms/step - loss: 0.2858 - accuracy: 0.8789 - val_loss: 0.8926 - val_accuracy: 0.4655\n",
            "Epoch 7/20\n",
            "233/250 [==========================>...] - ETA: 0s - loss: 0.2528 - accuracy: 0.9006\n",
            "Epoch 00007: val_accuracy did not improve from 0.50000\n",
            "250/250 [==============================] - 0s 2ms/step - loss: 0.2529 - accuracy: 0.8997 - val_loss: 0.8850 - val_accuracy: 0.3825\n",
            "Epoch 8/20\n",
            "244/250 [============================>.] - ETA: 0s - loss: 0.2255 - accuracy: 0.9139\n",
            "Epoch 00008: val_accuracy did not improve from 0.50000\n",
            "250/250 [==============================] - 0s 1ms/step - loss: 0.2257 - accuracy: 0.9139 - val_loss: 0.9146 - val_accuracy: 0.2995\n",
            "Epoch 9/20\n",
            "230/250 [==========================>...] - ETA: 0s - loss: 0.2013 - accuracy: 0.9273\n",
            "Epoch 00009: val_accuracy did not improve from 0.50000\n",
            "250/250 [==============================] - 0s 2ms/step - loss: 0.2017 - accuracy: 0.9254 - val_loss: 0.9810 - val_accuracy: 0.2805\n",
            "Epoch 10/20\n",
            "237/250 [===========================>..] - ETA: 0s - loss: 0.1796 - accuracy: 0.9338\n",
            "Epoch 00010: val_accuracy did not improve from 0.50000\n",
            "250/250 [==============================] - 0s 2ms/step - loss: 0.1807 - accuracy: 0.9329 - val_loss: 1.0931 - val_accuracy: 0.3790\n",
            "Epoch 11/20\n",
            "236/250 [===========================>..] - ETA: 0s - loss: 0.1626 - accuracy: 0.9396\n",
            "Epoch 00011: val_accuracy did not improve from 0.50000\n",
            "250/250 [==============================] - 0s 2ms/step - loss: 0.1630 - accuracy: 0.9399 - val_loss: 1.1316 - val_accuracy: 0.3275\n",
            "Epoch 12/20\n",
            "234/250 [===========================>..] - ETA: 0s - loss: 0.1472 - accuracy: 0.9448\n",
            "Epoch 00012: val_accuracy did not improve from 0.50000\n",
            "250/250 [==============================] - 0s 2ms/step - loss: 0.1476 - accuracy: 0.9442 - val_loss: 1.2034 - val_accuracy: 0.3310\n",
            "Epoch 13/20\n",
            "232/250 [==========================>...] - ETA: 0s - loss: 0.1331 - accuracy: 0.9502\n",
            "Epoch 00013: val_accuracy did not improve from 0.50000\n",
            "250/250 [==============================] - 0s 2ms/step - loss: 0.1331 - accuracy: 0.9494 - val_loss: 1.2748 - val_accuracy: 0.2725\n",
            "Epoch 14/20\n",
            "227/250 [==========================>...] - ETA: 0s - loss: 0.1208 - accuracy: 0.9543\n",
            "Epoch 00014: val_accuracy did not improve from 0.50000\n",
            "250/250 [==============================] - 0s 2ms/step - loss: 0.1240 - accuracy: 0.9525 - val_loss: 1.3833 - val_accuracy: 0.2745\n",
            "Epoch 15/20\n",
            "238/250 [===========================>..] - ETA: 0s - loss: 0.1128 - accuracy: 0.9550\n",
            "Epoch 00015: val_accuracy did not improve from 0.50000\n",
            "250/250 [==============================] - 0s 2ms/step - loss: 0.1128 - accuracy: 0.9553 - val_loss: 1.4424 - val_accuracy: 0.2870\n",
            "Epoch 16/20\n",
            "237/250 [===========================>..] - ETA: 0s - loss: 0.1040 - accuracy: 0.9583\n",
            "Epoch 00016: val_accuracy did not improve from 0.50000\n",
            "250/250 [==============================] - 0s 2ms/step - loss: 0.1049 - accuracy: 0.9576 - val_loss: 1.6222 - val_accuracy: 0.2780\n",
            "Epoch 17/20\n",
            "235/250 [===========================>..] - ETA: 0s - loss: 0.0961 - accuracy: 0.9624\n",
            "Epoch 00017: val_accuracy did not improve from 0.50000\n",
            "250/250 [==============================] - 0s 2ms/step - loss: 0.0976 - accuracy: 0.9614 - val_loss: 1.6775 - val_accuracy: 0.2785\n",
            "Epoch 18/20\n",
            "230/250 [==========================>...] - ETA: 0s - loss: 0.0916 - accuracy: 0.9647\n",
            "Epoch 00018: val_accuracy did not improve from 0.50000\n",
            "250/250 [==============================] - 0s 2ms/step - loss: 0.0928 - accuracy: 0.9641 - val_loss: 1.8240 - val_accuracy: 0.2640\n",
            "Epoch 19/20\n",
            "228/250 [==========================>...] - ETA: 0s - loss: 0.0854 - accuracy: 0.9661\n",
            "Epoch 00019: val_accuracy did not improve from 0.50000\n",
            "250/250 [==============================] - 0s 2ms/step - loss: 0.0866 - accuracy: 0.9664 - val_loss: 1.9184 - val_accuracy: 0.2615\n",
            "Epoch 20/20\n",
            "235/250 [===========================>..] - ETA: 0s - loss: 0.0811 - accuracy: 0.9674\n",
            "Epoch 00020: val_accuracy did not improve from 0.50000\n",
            "250/250 [==============================] - 0s 2ms/step - loss: 0.0833 - accuracy: 0.9653 - val_loss: 1.9911 - val_accuracy: 0.2590\n"
          ],
          "name": "stdout"
        },
        {
          "output_type": "display_data",
          "data": {
            "image/png": "[encoded data removed]",
            "text/plain": [
              "<Figure size 432x288 with 1 Axes>"
            ]
          },
          "metadata": {
            "tags": [],
            "needs_background": "light"
          }
        },
        {
          "output_type": "display_data",
          "data": {
            "image/png": "[encoded data removed]",
            "text/plain": [
              "<Figure size 432x288 with 1 Axes>"
            ]
          },
          "metadata": {
            "tags": [],
            "needs_background": "light"
          }
        }
      ]
    },
    {
      "cell_type": "markdown",
      "metadata": {
        "id": "NL_A3UEF_X46",
        "colab_type": "text"
      },
      "source": [
        "## Conclusion\n",
        "\n",
        "The simple DNN model performed poorly against the validation data.  As the model started overfitting, the validation accuracy went down.  This is indicative that the training dataset is not large or sufficient enough to produce a generalized model.  The second notebook will try a different DNN architecture: LTSM."
      ]
    }
  ]
}